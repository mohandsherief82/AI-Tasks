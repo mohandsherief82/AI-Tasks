{
 "cells": [
  {
   "cell_type": "markdown",
   "id": "ea32d949",
   "metadata": {},
   "source": [
    "## Vector Similarity Metrics:\n",
    "\n",
    "* It is the representation of data in the form of nth dimensional vectors and the similarity is determined by the distance between them as they are both inversly propotional.\n",
    "\n",
    "* Most common metrics:\n",
    "\n",
    "  * Euclidean distance: \n",
    "    * measures the straight line distance between 2 points in space.\n",
    "    * heavily influenced by the magnitude of the vector.\n",
    "    * calculated using the normal distance formula. \n",
    "  \n",
    "  * Cosine similarity:\n",
    "    * measures the cos of an angle between two vectors concerned with the orientaion of the vectors(1 = perfectly aligned).\n",
    "    * it ignores the magnitude of the vectors.\n",
    "    * calculated as the dot product of the vectors divided by the product of their magnitudes.\n",
    "  \n",
    "  * Manhattan distance:\n",
    "    * measures how close they are to each other without being influenced by the vector magnitude.\n",
    "    * less sensitive to outliers\n",
    "    * calculated by summing the absolute difference of their co-ordinates.\n",
    "  \n",
    "  * Minkowski distance:\n",
    "    * a generalized distance that includes manhattan and euclidean distance and is defined by a parameter p.\n",
    "    * if p = 2 it is normal euclidean distance, p = 1 manhattan distance.\n",
    "    * Chebyshev distance is when p = infinity, which defines the max co-ordinate distance"
   ]
  },
  {
   "cell_type": "code",
   "execution_count": null,
   "id": "ba5312b9",
   "metadata": {},
   "outputs": [],
   "source": [
    "import numpy as np\n",
    "import pandas as pd\n",
    "from matplotlib import pyplot as plt"
   ]
  },
  {
   "cell_type": "code",
   "execution_count": null,
   "id": "ebb5d984",
   "metadata": {},
   "outputs": [],
   "source": [
    "data = pd.read_csv('compat.csv')"
   ]
  },
  {
   "cell_type": "code",
   "execution_count": 67,
   "id": "7feb4bdd",
   "metadata": {},
   "outputs": [
    {
     "name": "stdout",
     "output_type": "stream",
     "text": [
      "Ferrari :  0.9973\n"
     ]
    }
   ],
   "source": [
    "def get_cosine_similarity(data, targetId):\n",
    "        # drop any none numerical data\n",
    "        numdata = data.drop(columns=data.select_dtypes(include=object).columns, inplace=False)\n",
    "\n",
    "        # get magnitude of each vector and multiply it with the target vector magnitude\n",
    "        mag_data = np.sqrt((numdata ** 2).sum(axis=1))\n",
    "        mag_data = mag_data[1:].mul(mag_data.loc[targetId])\n",
    "\n",
    "        # get target vector\n",
    "        targetrow = data.drop(columns=data.select_dtypes(include=object).columns, inplace=False).loc[targetId]\n",
    "\n",
    "        # calculate the dot product\n",
    "        dot_product = numdata[1:].mul(targetrow)\n",
    "\n",
    "        # calculate the cosine similarity value\n",
    "        results = round((dot_product.sum(axis=1)).div(mag_data), 4)\n",
    "\n",
    "        # print the most similar to the target\n",
    "        print(data.loc[results.idxmax()]['Name'], \": \", max(results))\n",
    "\n",
    "get_cosine_similarity(data,0)"
   ]
  },
  {
   "cell_type": "code",
   "execution_count": null,
   "id": "bac101a1",
   "metadata": {},
   "outputs": [],
   "source": [
    "def get_euclidean_distance(data, target_id):\n",
    "    # remove none numerical data\n",
    "    numdata = data.drop(columns=data.select_dtypes(include=object).columns, inplace=False)\n",
    "    print(numdata)\n",
    "\n",
    "    # get the target row values\n",
    "    target_row = numdata.loc[target_id]\n",
    "\n",
    "    # calculate the distance between the target and other points\n",
    "    distance = round(np.sqrt(((numdata[1:] - target_row) ** 2).sum(axis=1)), 4)\n",
    "\n",
    "    # print results\n",
    "    print(data.loc[distance.idxmin()]['Name'], \": \", min(distance))\n",
    "\n",
    "get_euclidean_distance(data, 0)"
   ]
  },
  {
   "cell_type": "code",
   "execution_count": null,
   "id": "d61242ea",
   "metadata": {},
   "outputs": [],
   "source": [
    "def get_manhattan_distance(point1, point2):\n",
    "    # set the initial distance value\n",
    "    distance = 0\n",
    "    column_labels = ['Speed', 'Aggression', 'Adaptability', 'Technical Skill', 'Teamwork', 'Risk-taking']\n",
    "\n",
    "    # loop over each value in each vector and get their absolute difference\n",
    "    for label in column_labels:\n",
    "        distance += abs((point1[label] - point2[label]))\n",
    "\n",
    "    return distance\n",
    "\n",
    "results = {}\n",
    "\n",
    "for row in range(1, len(data)):\n",
    "    results[data.loc[row]['Name']] = get_manhattan_distance(data.loc[0], data.loc[row])\n",
    "\n",
    "print(min(results, key=results.get), \": \" , min(results.values()))"
   ]
  },
  {
   "cell_type": "code",
   "execution_count": null,
   "id": "afa1e44f",
   "metadata": {},
   "outputs": [],
   "source": [
    "def get_minkowski_distance(point1, point2, p):\n",
    "    # set the initial distance value\n",
    "    distance = 0\n",
    "    column_labels = ['Speed', 'Aggression', 'Adaptability', 'Technical Skill', 'Teamwork', 'Risk-taking']\n",
    "\n",
    "    # loop over each value in each vector and get their absolute difference\n",
    "    for label in column_labels:\n",
    "        distance += (abs((point1[label] - point2[label]))) ** p\n",
    "\n",
    "    return round(distance ** (1/p), 2)\n",
    "\n",
    "results = {}\n",
    "\n",
    "for row in range(1, len(data)):\n",
    "    results[data.loc[row]['Name']] = get_minkowski_distance(data.loc[0], data.loc[row], 100)\n",
    "\n",
    "print(min(results, key=results.get), \": \" , min(results.values()))"
   ]
  },
  {
   "cell_type": "code",
   "execution_count": 74,
   "id": "780f1d8a",
   "metadata": {},
   "outputs": [],
   "source": [
    "from math import sqrt\n",
    "\n",
    "class VectorSimilarity:\n",
    "    def __init__(self, data):\n",
    "        self.data = data\n",
    "        \n",
    "        # The dispatch table for metric functions, correctly referencing methods\n",
    "        self.__metric_functions = {\n",
    "            'euclidean': self.__get_euclidean_distance, \n",
    "            'manhattan': self.__get_manhattan_distance, \n",
    "            'minkowski': self.__get_minkowski_distance, \n",
    "            'cosine': self.__get_cosine_similarity\n",
    "        }\n",
    "\n",
    "    def __get_manhattan_distance(self, target_id):\n",
    "        # remove none numerical data\n",
    "        numdata = self.data.drop(columns=self.data.select_dtypes(include=object).columns, inplace=False)\n",
    "\n",
    "        # get the target row values\n",
    "        target_row = numdata.loc[target_id]\n",
    "\n",
    "        # calculate the distance between the target and other points\n",
    "        distance = round((np.abs(numdata[1:] - target_row).sum(axis=1)), 4)\n",
    "\n",
    "        # print results\n",
    "        print(self.data.loc[distance.idxmin()]['Name'], \": \", min(distance))\n",
    "    \n",
    "    def __get_euclidean_distance(self, target_id):\n",
    "        # remove none numerical data\n",
    "        numdata = self.data.drop(columns=self.data.select_dtypes(include=object).columns, inplace=False)\n",
    "\n",
    "        # get the target row values\n",
    "        target_row = numdata.loc[target_id]\n",
    "\n",
    "        # calculate the distance between the target and other points\n",
    "        distance = round(np.sqrt(((numdata[1:] - target_row) ** 2).sum(axis=1)), 4)\n",
    "\n",
    "        # print results\n",
    "        print(self.data.loc[distance.idxmin()]['Name'], \": \", min(distance))\n",
    "    \n",
    "    def __get_minkowski_distance(self, target_id, p):\n",
    "        # remove none numerical data\n",
    "        numdata = self.data.drop(columns=self.data.select_dtypes(include=object).columns, inplace=False)\n",
    "\n",
    "        # get the target row values\n",
    "        target_row = numdata.loc[target_id]\n",
    "\n",
    "        # calculate the distance between the target and other points\n",
    "        distance = round(((np.abs(numdata[1:] - target_row) ** p).sum(axis=1) ** (1/p)), 4)\n",
    "\n",
    "        # print results\n",
    "        print(self.data.loc[distance.idxmin()]['Name'], \": \", min(distance))\n",
    "    \n",
    "    def __get_cosine_similarity(self, targetId):\n",
    "        # drop any none numerical data\n",
    "        numdata = self.data.drop(columns=self.data.select_dtypes(include=object).columns, inplace=False)\n",
    "\n",
    "        # get magnitude of each vector and multiply it with the target vector magnitude\n",
    "        mag_data = np.sqrt((numdata ** 2).sum(axis=1))\n",
    "        mag_data = mag_data[1:].mul(mag_data.loc[targetId])\n",
    "\n",
    "        # get target vector\n",
    "        targetrow = data.drop(columns=self.data.select_dtypes(include=object).columns, inplace=False).loc[targetId]\n",
    "\n",
    "        # calculate the dot product\n",
    "        dot_product = numdata[1:].mul(targetrow)\n",
    "\n",
    "        # calculate the cosine similarity value\n",
    "        results = round((dot_product.sum(axis=1)).div(mag_data), 4)\n",
    "\n",
    "        # print the most similar to the target\n",
    "        print(self.data.loc[results.idxmax()]['Name'], \": \", max(results))\n",
    "    \n",
    "    def similarity_metric(self, targetID, funct_type='cosine', p=3):\n",
    "        funct = self.__metric_functions[funct_type]\n",
    "        \n",
    "        # Call the correct function with the correct parameters\n",
    "        if funct_type == 'minkowski':\n",
    "            funct(targetID, p)\n",
    "        else:\n",
    "            funct(targetID)"
   ]
  },
  {
   "cell_type": "code",
   "execution_count": 75,
   "id": "46c0e0f3",
   "metadata": {},
   "outputs": [
    {
     "name": "stdout",
     "output_type": "stream",
     "text": [
      "Ferrari :  0.9973\n",
      "Ferrari :  2.0\n",
      "Ferrari :  4\n",
      "Ferrari :  1.3195\n"
     ]
    }
   ],
   "source": [
    "metric = VectorSimilarity(data)\n",
    "\n",
    "metric.similarity_metric(0)\n",
    "metric.similarity_metric(0, 'euclidean')\n",
    "metric.similarity_metric(0, 'manhattan')\n",
    "metric.similarity_metric(0, 'minkowski', p=5)"
   ]
  }
 ],
 "metadata": {
  "kernelspec": {
   "display_name": ".venv",
   "language": "python",
   "name": "python3"
  },
  "language_info": {
   "codemirror_mode": {
    "name": "ipython",
    "version": 3
   },
   "file_extension": ".py",
   "mimetype": "text/x-python",
   "name": "python",
   "nbconvert_exporter": "python",
   "pygments_lexer": "ipython3",
   "version": "3.12.3"
  }
 },
 "nbformat": 4,
 "nbformat_minor": 5
}
