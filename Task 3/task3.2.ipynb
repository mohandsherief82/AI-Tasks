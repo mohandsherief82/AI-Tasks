{
 "cells": [
  {
   "cell_type": "code",
   "execution_count": null,
   "id": "15511875",
   "metadata": {},
   "outputs": [],
   "source": [
    "import numpy as np\n",
    "import pandas as pd\n",
    "from sklearn.preprocessing import StandardScaler\n",
    "from sklearn.model_selection import train_test_split\n",
    "from sklearn.metrics import mean_squared_error"
   ]
  },
  {
   "cell_type": "code",
   "execution_count": null,
   "id": "fe084f25",
   "metadata": {},
   "outputs": [],
   "source": [
    "# Training Data Preprocessing\n",
    "# Load data\n",
    "train_data = pd.read_csv(\"train.csv\")\n",
    "\n",
    "# Separate features (X) and target (Y)\n",
    "Y = pd.DataFrame(train_data[\"Calories\"])\n",
    "X = train_data.drop(columns=[\"Calories\"])\n",
    "\n",
    "# Apply a mapping to the 'Sex' column\n",
    "X['Sex'] = X['Sex'].map({'male': 1, 'female': 0})\n",
    "\n",
    "# Intialize data standradizer\n",
    "scaler = StandardScaler()\n",
    "\n",
    "# Standardize the data\n",
    "X = scaler.fit_transform(X)"
   ]
  },
  {
   "cell_type": "code",
   "execution_count": null,
   "id": "71cd7377",
   "metadata": {},
   "outputs": [],
   "source": [
    "# Testing Data Preprocessing\n",
    "# Load data\n",
    "X_test = pd.read_csv(\"test.csv\")\n",
    "\n",
    "# Apply a mapping to the 'Sex' column\n",
    "X_test['Sex'] = X_test['Sex'].map({'male': 1, 'female': 0})\n",
    "\n",
    "# Standradize the data\n",
    "X_test = scaler.fit_transform(X_test)\n",
    "\n",
    "y_test = (pd.read_csv(\"/kaggle/input/f-1-racer-diet-planning/sample_submission.csv\")).drop(columns=['id'])"
   ]
  },
  {
   "cell_type": "code",
   "execution_count": null,
   "id": "fd6ee6ce",
   "metadata": {},
   "outputs": [],
   "source": [
    "# Simple Linear regression\n",
    "from sklearn.linear_model import ElasticNet\n",
    "\n",
    "# Create a linear regression model with standardization \n",
    "elastic_net = ElasticNet(alpha=0.2, l1_ratio=0.25)\n",
    "\n",
    "# Train the model\n",
    "elastic_net.fit(X, Y)"
   ]
  },
  {
   "cell_type": "code",
   "execution_count": null,
   "id": "0ec59159",
   "metadata": {},
   "outputs": [],
   "source": [
    "# Make predictions on the test set using linear regression\n",
    "linear_reg_predictions = elastic_net.predict(X_test)\n",
    "print(linear_reg_predictions)\n",
    "\n",
    "# Evaluate the model's performance\n",
    "rmse_linear = np.sqrt(mean_squared_error(y_test, linear_reg_predictions))\n",
    "print(f\"Linear Regression RMSE: {rmse_linear:.2f}\")"
   ]
  },
  {
   "cell_type": "code",
   "execution_count": null,
   "id": "47c82375",
   "metadata": {},
   "outputs": [],
   "source": [
    "from sklearn.svm import LinearSVC\n",
    "\n",
    "# Create an instance of the Support Vector Regressor\n",
    "svm_model = LinearSVC(penalty='l2', C=1.0, dual=False, random_state=42)\n",
    "\n",
    "# Train the model\n",
    "svm_model.fit(X, Y.values.ravel())"
   ]
  },
  {
   "cell_type": "code",
   "execution_count": null,
   "id": "53901fed",
   "metadata": {},
   "outputs": [],
   "source": [
    "# Make predictions\n",
    "svm_predictions = svm_model.predict(X_test)\n",
    "\n",
    "# Evaluate the model's performance\n",
    "rmse_svm = np.sqrt(mean_squared_error(y_test, svm_predictions))\n",
    "print(f\"SVR with Linear Kernel RMSE: {rmse_svm:.2f}\")"
   ]
  },
  {
   "cell_type": "code",
   "execution_count": null,
   "id": "e197b9d2",
   "metadata": {},
   "outputs": [],
   "source": [
    "from sklearn.ensemble import RandomForestRegressor, VotingRegressor\n",
    "\n",
    "# Create an instance of the Random Forest Regressor\n",
    "random_forest_model = RandomForestRegressor(n_estimators=100, random_state=42)\n",
    "\n",
    "# Train the model\n",
    "random_forest_model.fit(X, Y.values.ravel())"
   ]
  },
  {
   "cell_type": "code",
   "execution_count": null,
   "id": "f52297c7",
   "metadata": {},
   "outputs": [],
   "source": [
    "# Make predictions\n",
    "rf_predictions = random_forest_model.predict(X_test)\n",
    "\n",
    "# Evaluate the model's performance\n",
    "rmse_rf = np.sqrt(mean_squared_error(y_test, rf_predictions))\n",
    "print(f\"Random Forest Regression RMSE: {rmse_rf:.2f}\")"
   ]
  },
  {
   "cell_type": "code",
   "execution_count": null,
   "id": "1cafeed4",
   "metadata": {},
   "outputs": [],
   "source": [
    "ensemble_estimators = [\n",
    "    ('svm', svm_model),\n",
    "    ('RF', random_forest_model),\n",
    "    ('LR', elastic_net)\n",
    "]\n",
    "\n",
    "# Create the voting model\n",
    "ensemble_model = VotingRegressor(estimators=ensemble_estimators)\n",
    "ensemble_model.fit(X_train_scaled, y_train)"
   ]
  },
  {
   "cell_type": "code",
   "execution_count": null,
   "id": "49ac4d2d",
   "metadata": {},
   "outputs": [],
   "source": [
    "# Test the ensemble of models\n",
    "predictions = ensemble_model.predict(X_test)\n",
    "rmse = np.sqrt(mean_squared_error(y_test, predictions))\n",
    "print(f\"Ensemble Model RMSE: {rmse:.4f}\")"
   ]
  }
 ],
 "metadata": {
  "kernelspec": {
   "display_name": ".venv",
   "language": "python",
   "name": "python3"
  },
  "language_info": {
   "name": "python",
   "version": "3.12.3"
  }
 },
 "nbformat": 4,
 "nbformat_minor": 5
}
